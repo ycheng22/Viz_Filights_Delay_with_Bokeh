{
 "cells": [
  {
   "cell_type": "markdown",
   "id": "f3520824-4ef1-423e-862c-aa4250d45adc",
   "metadata": {},
   "source": [
    "# Data Processing\n",
    "\n",
    "Fetch data by `anyflights`: https://github.com/simonpcouch/anyflights.\n",
    "\n",
    "Airline_code: https://www.bts.gov/topics/airlines-and-airports/airline-codes."
   ]
  },
  {
   "cell_type": "code",
   "execution_count": 1,
   "id": "2f86bb2c-a960-4b2f-b710-51a4ec6f34fc",
   "metadata": {},
   "outputs": [],
   "source": [
    "import glob\n",
    "import pandas as pd\n",
    "from tqdm.notebook import tqdm"
   ]
  },
  {
   "cell_type": "markdown",
   "id": "f3e5cf99-9d1e-4f96-a5da-381ff4476fc8",
   "metadata": {},
   "source": [
    "## Combine 12 months files"
   ]
  },
  {
   "cell_type": "code",
   "execution_count": 2,
   "id": "59781ef8-ab93-4da6-84e1-551e65faeddc",
   "metadata": {},
   "outputs": [
    {
     "name": "stdout",
     "output_type": "stream",
     "text": [
      "['C:/CS_DATA/2020_flights\\\\202001.csv', 'C:/CS_DATA/2020_flights\\\\202002.csv', 'C:/CS_DATA/2020_flights\\\\202003.csv', 'C:/CS_DATA/2020_flights\\\\202004.csv', 'C:/CS_DATA/2020_flights\\\\202005.csv', 'C:/CS_DATA/2020_flights\\\\202006.csv', 'C:/CS_DATA/2020_flights\\\\202007.csv', 'C:/CS_DATA/2020_flights\\\\202008.csv', 'C:/CS_DATA/2020_flights\\\\202009.csv', 'C:/CS_DATA/2020_flights\\\\202010.csv', 'C:/CS_DATA/2020_flights\\\\202011.csv', 'C:/CS_DATA/2020_flights\\\\202012.csv']\n"
     ]
    }
   ],
   "source": [
    "names = glob.glob('C:/CS_DATA/2020_flights/*')\n",
    "print(names)"
   ]
  },
  {
   "cell_type": "code",
   "execution_count": 3,
   "id": "6aa0baab-a6c6-4648-b399-b7dcb43b14e4",
   "metadata": {},
   "outputs": [
    {
     "data": {
      "text/html": [
       "<div>\n",
       "<style scoped>\n",
       "    .dataframe tbody tr th:only-of-type {\n",
       "        vertical-align: middle;\n",
       "    }\n",
       "\n",
       "    .dataframe tbody tr th {\n",
       "        vertical-align: top;\n",
       "    }\n",
       "\n",
       "    .dataframe thead th {\n",
       "        text-align: right;\n",
       "    }\n",
       "</style>\n",
       "<table border=\"1\" class=\"dataframe\">\n",
       "  <thead>\n",
       "    <tr style=\"text-align: right;\">\n",
       "      <th></th>\n",
       "      <th>FlightDate</th>\n",
       "      <th>Reporting_Airline</th>\n",
       "      <th>Origin</th>\n",
       "      <th>OriginCityName</th>\n",
       "      <th>OriginStateName</th>\n",
       "      <th>Dest</th>\n",
       "      <th>DestCityName</th>\n",
       "      <th>DestStateName</th>\n",
       "      <th>CRSDepTime</th>\n",
       "      <th>DepTime</th>\n",
       "      <th>DepDelay</th>\n",
       "      <th>CRSArrTime</th>\n",
       "      <th>ArrTime</th>\n",
       "      <th>ArrDelay</th>\n",
       "    </tr>\n",
       "  </thead>\n",
       "  <tbody>\n",
       "    <tr>\n",
       "      <th>0</th>\n",
       "      <td>2020-01-17</td>\n",
       "      <td>B6</td>\n",
       "      <td>PBI</td>\n",
       "      <td>West Palm Beach/Palm Beach, FL</td>\n",
       "      <td>Florida</td>\n",
       "      <td>BDL</td>\n",
       "      <td>Hartford, CT</td>\n",
       "      <td>Connecticut</td>\n",
       "      <td>1940</td>\n",
       "      <td>1926.0</td>\n",
       "      <td>-14.0</td>\n",
       "      <td>2229</td>\n",
       "      <td>2218.0</td>\n",
       "      <td>-11.0</td>\n",
       "    </tr>\n",
       "    <tr>\n",
       "      <th>1</th>\n",
       "      <td>2020-01-18</td>\n",
       "      <td>B6</td>\n",
       "      <td>PBI</td>\n",
       "      <td>West Palm Beach/Palm Beach, FL</td>\n",
       "      <td>Florida</td>\n",
       "      <td>BDL</td>\n",
       "      <td>Hartford, CT</td>\n",
       "      <td>Connecticut</td>\n",
       "      <td>1940</td>\n",
       "      <td>1926.0</td>\n",
       "      <td>-14.0</td>\n",
       "      <td>2229</td>\n",
       "      <td>2220.0</td>\n",
       "      <td>-9.0</td>\n",
       "    </tr>\n",
       "    <tr>\n",
       "      <th>2</th>\n",
       "      <td>2020-01-19</td>\n",
       "      <td>B6</td>\n",
       "      <td>PBI</td>\n",
       "      <td>West Palm Beach/Palm Beach, FL</td>\n",
       "      <td>Florida</td>\n",
       "      <td>BDL</td>\n",
       "      <td>Hartford, CT</td>\n",
       "      <td>Connecticut</td>\n",
       "      <td>1940</td>\n",
       "      <td>1947.0</td>\n",
       "      <td>7.0</td>\n",
       "      <td>2229</td>\n",
       "      <td>2223.0</td>\n",
       "      <td>-6.0</td>\n",
       "    </tr>\n",
       "    <tr>\n",
       "      <th>3</th>\n",
       "      <td>2020-01-20</td>\n",
       "      <td>B6</td>\n",
       "      <td>PBI</td>\n",
       "      <td>West Palm Beach/Palm Beach, FL</td>\n",
       "      <td>Florida</td>\n",
       "      <td>BDL</td>\n",
       "      <td>Hartford, CT</td>\n",
       "      <td>Connecticut</td>\n",
       "      <td>1940</td>\n",
       "      <td>1933.0</td>\n",
       "      <td>-7.0</td>\n",
       "      <td>2229</td>\n",
       "      <td>2233.0</td>\n",
       "      <td>4.0</td>\n",
       "    </tr>\n",
       "    <tr>\n",
       "      <th>4</th>\n",
       "      <td>2020-01-21</td>\n",
       "      <td>B6</td>\n",
       "      <td>PBI</td>\n",
       "      <td>West Palm Beach/Palm Beach, FL</td>\n",
       "      <td>Florida</td>\n",
       "      <td>BDL</td>\n",
       "      <td>Hartford, CT</td>\n",
       "      <td>Connecticut</td>\n",
       "      <td>1940</td>\n",
       "      <td>1952.0</td>\n",
       "      <td>12.0</td>\n",
       "      <td>2229</td>\n",
       "      <td>2235.0</td>\n",
       "      <td>6.0</td>\n",
       "    </tr>\n",
       "  </tbody>\n",
       "</table>\n",
       "</div>"
      ],
      "text/plain": [
       "   FlightDate Reporting_Airline Origin                  OriginCityName  \\\n",
       "0  2020-01-17                B6    PBI  West Palm Beach/Palm Beach, FL   \n",
       "1  2020-01-18                B6    PBI  West Palm Beach/Palm Beach, FL   \n",
       "2  2020-01-19                B6    PBI  West Palm Beach/Palm Beach, FL   \n",
       "3  2020-01-20                B6    PBI  West Palm Beach/Palm Beach, FL   \n",
       "4  2020-01-21                B6    PBI  West Palm Beach/Palm Beach, FL   \n",
       "\n",
       "  OriginStateName Dest  DestCityName DestStateName  CRSDepTime  DepTime  \\\n",
       "0         Florida  BDL  Hartford, CT   Connecticut        1940   1926.0   \n",
       "1         Florida  BDL  Hartford, CT   Connecticut        1940   1926.0   \n",
       "2         Florida  BDL  Hartford, CT   Connecticut        1940   1947.0   \n",
       "3         Florida  BDL  Hartford, CT   Connecticut        1940   1933.0   \n",
       "4         Florida  BDL  Hartford, CT   Connecticut        1940   1952.0   \n",
       "\n",
       "   DepDelay  CRSArrTime  ArrTime  ArrDelay  \n",
       "0     -14.0        2229   2218.0     -11.0  \n",
       "1     -14.0        2229   2220.0      -9.0  \n",
       "2       7.0        2229   2223.0      -6.0  \n",
       "3      -7.0        2229   2233.0       4.0  \n",
       "4      12.0        2229   2235.0       6.0  "
      ]
     },
     "execution_count": 3,
     "metadata": {},
     "output_type": "execute_result"
    }
   ],
   "source": [
    "select_cols = ['FlightDate', 'Reporting_Airline', 'Origin', 'OriginCityName', 'OriginStateName', \n",
    "               'Dest', 'DestCityName', 'DestStateName', 'CRSDepTime', 'DepTime', 'DepDelay', \n",
    "               'CRSArrTime', 'ArrTime', 'ArrDelay']\n",
    "df1 = pd.read_csv(names[0], usecols=select_cols)\n",
    "df1.head()"
   ]
  },
  {
   "cell_type": "code",
   "execution_count": 4,
   "id": "d3cd4100-2322-4bd5-b47f-2354eb0526c7",
   "metadata": {},
   "outputs": [
    {
     "data": {
      "text/plain": [
       "Index(['FlightDate', 'Reporting_Airline', 'Origin', 'OriginCityName',\n",
       "       'OriginStateName', 'Dest', 'DestCityName', 'DestStateName',\n",
       "       'CRSDepTime', 'DepTime', 'DepDelay', 'CRSArrTime', 'ArrTime',\n",
       "       'ArrDelay'],\n",
       "      dtype='object')"
      ]
     },
     "execution_count": 4,
     "metadata": {},
     "output_type": "execute_result"
    }
   ],
   "source": [
    "df1.columns"
   ]
  },
  {
   "cell_type": "code",
   "execution_count": 5,
   "id": "544007ad-2b98-4dee-96af-264901ecb6aa",
   "metadata": {},
   "outputs": [
    {
     "data": {
      "text/plain": [
       "FlightDate              0\n",
       "Reporting_Airline       0\n",
       "Origin                  0\n",
       "OriginCityName          0\n",
       "OriginStateName         0\n",
       "Dest                    0\n",
       "DestCityName            0\n",
       "DestStateName           0\n",
       "CRSDepTime              0\n",
       "DepTime              6664\n",
       "DepDelay             6699\n",
       "CRSArrTime              0\n",
       "ArrTime              7075\n",
       "ArrDelay             8078\n",
       "dtype: int64"
      ]
     },
     "execution_count": 5,
     "metadata": {},
     "output_type": "execute_result"
    }
   ],
   "source": [
    "df1.isnull().sum()"
   ]
  },
  {
   "cell_type": "code",
   "execution_count": 6,
   "id": "ddd7d9ce-72af-4114-8ac9-3887a5f5295b",
   "metadata": {},
   "outputs": [
    {
     "data": {
      "text/plain": [
       "(607346, 14)"
      ]
     },
     "execution_count": 6,
     "metadata": {},
     "output_type": "execute_result"
    }
   ],
   "source": [
    "df1.shape"
   ]
  },
  {
   "cell_type": "code",
   "execution_count": 7,
   "id": "bc6e1dea-7c6d-49ce-adc7-91b06488a095",
   "metadata": {},
   "outputs": [],
   "source": [
    "df1.dropna(inplace=True)"
   ]
  },
  {
   "cell_type": "code",
   "execution_count": 8,
   "id": "155d3853-270c-4f77-a2ea-f68e34cb0c0e",
   "metadata": {},
   "outputs": [
    {
     "data": {
      "text/plain": [
       "FlightDate           0\n",
       "Reporting_Airline    0\n",
       "Origin               0\n",
       "OriginCityName       0\n",
       "OriginStateName      0\n",
       "Dest                 0\n",
       "DestCityName         0\n",
       "DestStateName        0\n",
       "CRSDepTime           0\n",
       "DepTime              0\n",
       "DepDelay             0\n",
       "CRSArrTime           0\n",
       "ArrTime              0\n",
       "ArrDelay             0\n",
       "dtype: int64"
      ]
     },
     "execution_count": 8,
     "metadata": {},
     "output_type": "execute_result"
    }
   ],
   "source": [
    "df1.isnull().sum()"
   ]
  },
  {
   "cell_type": "code",
   "execution_count": 9,
   "id": "5b2698c8-108a-4bfc-9a45-1d9dff019e3b",
   "metadata": {},
   "outputs": [
    {
     "data": {
      "text/plain": [
       "(599268, 14)"
      ]
     },
     "execution_count": 9,
     "metadata": {},
     "output_type": "execute_result"
    }
   ],
   "source": [
    "df1.shape"
   ]
  },
  {
   "cell_type": "code",
   "execution_count": 10,
   "id": "7455c678-0ff5-4b8d-b371-64d05a5e4d41",
   "metadata": {},
   "outputs": [
    {
     "data": {
      "application/vnd.jupyter.widget-view+json": {
       "model_id": "740a4bc785e7460fa6bc5b20314ca679",
       "version_major": 2,
       "version_minor": 0
      },
      "text/plain": [
       "  0%|          | 0/12 [00:00<?, ?it/s]"
      ]
     },
     "metadata": {},
     "output_type": "display_data"
    },
    {
     "name": "stdout",
     "output_type": "stream",
     "text": [
      "C:/CS_DATA/2020_flights\\202001.csv\n",
      "C:/CS_DATA/2020_flights\\202002.csv\n",
      "C:/CS_DATA/2020_flights\\202003.csv\n",
      "C:/CS_DATA/2020_flights\\202004.csv\n",
      "C:/CS_DATA/2020_flights\\202005.csv\n",
      "C:/CS_DATA/2020_flights\\202006.csv\n",
      "C:/CS_DATA/2020_flights\\202007.csv\n",
      "C:/CS_DATA/2020_flights\\202008.csv\n",
      "C:/CS_DATA/2020_flights\\202009.csv\n",
      "C:/CS_DATA/2020_flights\\202010.csv\n",
      "C:/CS_DATA/2020_flights\\202011.csv\n",
      "C:/CS_DATA/2020_flights\\202012.csv\n"
     ]
    },
    {
     "data": {
      "text/html": [
       "<div>\n",
       "<style scoped>\n",
       "    .dataframe tbody tr th:only-of-type {\n",
       "        vertical-align: middle;\n",
       "    }\n",
       "\n",
       "    .dataframe tbody tr th {\n",
       "        vertical-align: top;\n",
       "    }\n",
       "\n",
       "    .dataframe thead th {\n",
       "        text-align: right;\n",
       "    }\n",
       "</style>\n",
       "<table border=\"1\" class=\"dataframe\">\n",
       "  <thead>\n",
       "    <tr style=\"text-align: right;\">\n",
       "      <th></th>\n",
       "      <th>FlightDate</th>\n",
       "      <th>Reporting_Airline</th>\n",
       "      <th>Origin</th>\n",
       "      <th>OriginCityName</th>\n",
       "      <th>OriginStateName</th>\n",
       "      <th>Dest</th>\n",
       "      <th>DestCityName</th>\n",
       "      <th>DestStateName</th>\n",
       "      <th>CRSDepTime</th>\n",
       "      <th>DepTime</th>\n",
       "      <th>DepDelay</th>\n",
       "      <th>CRSArrTime</th>\n",
       "      <th>ArrTime</th>\n",
       "      <th>ArrDelay</th>\n",
       "    </tr>\n",
       "  </thead>\n",
       "  <tbody>\n",
       "    <tr>\n",
       "      <th>6256</th>\n",
       "      <td>2020-01-01</td>\n",
       "      <td>B6</td>\n",
       "      <td>IAH</td>\n",
       "      <td>Houston, TX</td>\n",
       "      <td>Texas</td>\n",
       "      <td>JFK</td>\n",
       "      <td>New York, NY</td>\n",
       "      <td>New York</td>\n",
       "      <td>1134</td>\n",
       "      <td>1127.0</td>\n",
       "      <td>-7.0</td>\n",
       "      <td>1603</td>\n",
       "      <td>1531.0</td>\n",
       "      <td>-32.0</td>\n",
       "    </tr>\n",
       "    <tr>\n",
       "      <th>6257</th>\n",
       "      <td>2020-01-02</td>\n",
       "      <td>B6</td>\n",
       "      <td>IAH</td>\n",
       "      <td>Houston, TX</td>\n",
       "      <td>Texas</td>\n",
       "      <td>JFK</td>\n",
       "      <td>New York, NY</td>\n",
       "      <td>New York</td>\n",
       "      <td>1134</td>\n",
       "      <td>1122.0</td>\n",
       "      <td>-12.0</td>\n",
       "      <td>1603</td>\n",
       "      <td>1514.0</td>\n",
       "      <td>-49.0</td>\n",
       "    </tr>\n",
       "    <tr>\n",
       "      <th>6258</th>\n",
       "      <td>2020-01-03</td>\n",
       "      <td>B6</td>\n",
       "      <td>IAH</td>\n",
       "      <td>Houston, TX</td>\n",
       "      <td>Texas</td>\n",
       "      <td>JFK</td>\n",
       "      <td>New York, NY</td>\n",
       "      <td>New York</td>\n",
       "      <td>1134</td>\n",
       "      <td>1155.0</td>\n",
       "      <td>21.0</td>\n",
       "      <td>1603</td>\n",
       "      <td>1618.0</td>\n",
       "      <td>15.0</td>\n",
       "    </tr>\n",
       "    <tr>\n",
       "      <th>6259</th>\n",
       "      <td>2020-01-04</td>\n",
       "      <td>B6</td>\n",
       "      <td>IAH</td>\n",
       "      <td>Houston, TX</td>\n",
       "      <td>Texas</td>\n",
       "      <td>JFK</td>\n",
       "      <td>New York, NY</td>\n",
       "      <td>New York</td>\n",
       "      <td>1130</td>\n",
       "      <td>1127.0</td>\n",
       "      <td>-3.0</td>\n",
       "      <td>1559</td>\n",
       "      <td>1544.0</td>\n",
       "      <td>-15.0</td>\n",
       "    </tr>\n",
       "    <tr>\n",
       "      <th>6260</th>\n",
       "      <td>2020-01-05</td>\n",
       "      <td>B6</td>\n",
       "      <td>IAH</td>\n",
       "      <td>Houston, TX</td>\n",
       "      <td>Texas</td>\n",
       "      <td>JFK</td>\n",
       "      <td>New York, NY</td>\n",
       "      <td>New York</td>\n",
       "      <td>1134</td>\n",
       "      <td>1209.0</td>\n",
       "      <td>35.0</td>\n",
       "      <td>1603</td>\n",
       "      <td>1643.0</td>\n",
       "      <td>40.0</td>\n",
       "    </tr>\n",
       "  </tbody>\n",
       "</table>\n",
       "</div>"
      ],
      "text/plain": [
       "      FlightDate Reporting_Airline Origin OriginCityName OriginStateName Dest  \\\n",
       "6256  2020-01-01                B6    IAH    Houston, TX           Texas  JFK   \n",
       "6257  2020-01-02                B6    IAH    Houston, TX           Texas  JFK   \n",
       "6258  2020-01-03                B6    IAH    Houston, TX           Texas  JFK   \n",
       "6259  2020-01-04                B6    IAH    Houston, TX           Texas  JFK   \n",
       "6260  2020-01-05                B6    IAH    Houston, TX           Texas  JFK   \n",
       "\n",
       "      DestCityName DestStateName CRSDepTime  DepTime  DepDelay CRSArrTime  \\\n",
       "6256  New York, NY      New York       1134   1127.0      -7.0       1603   \n",
       "6257  New York, NY      New York       1134   1122.0     -12.0       1603   \n",
       "6258  New York, NY      New York       1134   1155.0      21.0       1603   \n",
       "6259  New York, NY      New York       1130   1127.0      -3.0       1559   \n",
       "6260  New York, NY      New York       1134   1209.0      35.0       1603   \n",
       "\n",
       "      ArrTime  ArrDelay  \n",
       "6256   1531.0     -32.0  \n",
       "6257   1514.0     -49.0  \n",
       "6258   1618.0      15.0  \n",
       "6259   1544.0     -15.0  \n",
       "6260   1643.0      40.0  "
      ]
     },
     "execution_count": 10,
     "metadata": {},
     "output_type": "execute_result"
    }
   ],
   "source": [
    "Hou_flights = pd.DataFrame(columns = select_cols)\n",
    "for name in tqdm(names):\n",
    "    print(name)\n",
    "    df = pd.read_csv(name, usecols=select_cols)\n",
    "    df.dropna(inplace=True)\n",
    "    df = df[(df['Origin']=='IAH') | (df['Origin']=='HOU')]\n",
    "    Hou_flights = Hou_flights.append(df)\n",
    "Hou_flights.head()"
   ]
  },
  {
   "cell_type": "code",
   "execution_count": 11,
   "id": "e04443ce-995c-40a6-9d33-3d3ffceb9f52",
   "metadata": {},
   "outputs": [
    {
     "data": {
      "text/plain": [
       "array(['IAH', 'HOU'], dtype=object)"
      ]
     },
     "execution_count": 11,
     "metadata": {},
     "output_type": "execute_result"
    }
   ],
   "source": [
    "Hou_flights['Origin'].unique()"
   ]
  },
  {
   "cell_type": "code",
   "execution_count": 12,
   "id": "d218490d-3a56-4daf-8405-58c0aa9e0176",
   "metadata": {},
   "outputs": [
    {
     "data": {
      "text/html": [
       "<div>\n",
       "<style scoped>\n",
       "    .dataframe tbody tr th:only-of-type {\n",
       "        vertical-align: middle;\n",
       "    }\n",
       "\n",
       "    .dataframe tbody tr th {\n",
       "        vertical-align: top;\n",
       "    }\n",
       "\n",
       "    .dataframe thead th {\n",
       "        text-align: right;\n",
       "    }\n",
       "</style>\n",
       "<table border=\"1\" class=\"dataframe\">\n",
       "  <thead>\n",
       "    <tr style=\"text-align: right;\">\n",
       "      <th></th>\n",
       "      <th>carrier</th>\n",
       "      <th>name</th>\n",
       "    </tr>\n",
       "  </thead>\n",
       "  <tbody>\n",
       "    <tr>\n",
       "      <th>0</th>\n",
       "      <td>02Q</td>\n",
       "      <td>Titan Airways</td>\n",
       "    </tr>\n",
       "    <tr>\n",
       "      <th>1</th>\n",
       "      <td>04Q</td>\n",
       "      <td>Tradewind Aviation</td>\n",
       "    </tr>\n",
       "    <tr>\n",
       "      <th>2</th>\n",
       "      <td>05Q</td>\n",
       "      <td>Comlux Aviation, AG</td>\n",
       "    </tr>\n",
       "    <tr>\n",
       "      <th>3</th>\n",
       "      <td>06Q</td>\n",
       "      <td>Master Top Linhas Aereas Ltd.</td>\n",
       "    </tr>\n",
       "    <tr>\n",
       "      <th>4</th>\n",
       "      <td>07Q</td>\n",
       "      <td>Flair Airlines Ltd.</td>\n",
       "    </tr>\n",
       "  </tbody>\n",
       "</table>\n",
       "</div>"
      ],
      "text/plain": [
       "  carrier                           name\n",
       "0     02Q                  Titan Airways\n",
       "1     04Q             Tradewind Aviation\n",
       "2     05Q            Comlux Aviation, AG\n",
       "3     06Q  Master Top Linhas Aereas Ltd.\n",
       "4     07Q            Flair Airlines Ltd."
      ]
     },
     "execution_count": 12,
     "metadata": {},
     "output_type": "execute_result"
    }
   ],
   "source": [
    "carrier_names = pd.read_excel('airlines_code.xlsx')\n",
    "carrier_names.head()"
   ]
  },
  {
   "cell_type": "code",
   "execution_count": 13,
   "id": "432dcfbb-5171-4c4c-9a61-6ea45a5bc2cc",
   "metadata": {},
   "outputs": [
    {
     "data": {
      "text/html": [
       "<div>\n",
       "<style scoped>\n",
       "    .dataframe tbody tr th:only-of-type {\n",
       "        vertical-align: middle;\n",
       "    }\n",
       "\n",
       "    .dataframe tbody tr th {\n",
       "        vertical-align: top;\n",
       "    }\n",
       "\n",
       "    .dataframe thead th {\n",
       "        text-align: right;\n",
       "    }\n",
       "</style>\n",
       "<table border=\"1\" class=\"dataframe\">\n",
       "  <thead>\n",
       "    <tr style=\"text-align: right;\">\n",
       "      <th></th>\n",
       "      <th>FlightDate</th>\n",
       "      <th>Reporting_Airline</th>\n",
       "      <th>Origin</th>\n",
       "      <th>OriginCityName</th>\n",
       "      <th>OriginStateName</th>\n",
       "      <th>Dest</th>\n",
       "      <th>DestCityName</th>\n",
       "      <th>DestStateName</th>\n",
       "      <th>CRSDepTime</th>\n",
       "      <th>DepTime</th>\n",
       "      <th>DepDelay</th>\n",
       "      <th>CRSArrTime</th>\n",
       "      <th>ArrTime</th>\n",
       "      <th>ArrDelay</th>\n",
       "      <th>carrier</th>\n",
       "      <th>name</th>\n",
       "    </tr>\n",
       "  </thead>\n",
       "  <tbody>\n",
       "    <tr>\n",
       "      <th>0</th>\n",
       "      <td>2020-01-01</td>\n",
       "      <td>B6</td>\n",
       "      <td>IAH</td>\n",
       "      <td>Houston, TX</td>\n",
       "      <td>Texas</td>\n",
       "      <td>JFK</td>\n",
       "      <td>New York, NY</td>\n",
       "      <td>New York</td>\n",
       "      <td>1134</td>\n",
       "      <td>1127.0</td>\n",
       "      <td>-7.0</td>\n",
       "      <td>1603</td>\n",
       "      <td>1531.0</td>\n",
       "      <td>-32.0</td>\n",
       "      <td>B6</td>\n",
       "      <td>JetBlue Airways</td>\n",
       "    </tr>\n",
       "    <tr>\n",
       "      <th>1</th>\n",
       "      <td>2020-01-02</td>\n",
       "      <td>B6</td>\n",
       "      <td>IAH</td>\n",
       "      <td>Houston, TX</td>\n",
       "      <td>Texas</td>\n",
       "      <td>JFK</td>\n",
       "      <td>New York, NY</td>\n",
       "      <td>New York</td>\n",
       "      <td>1134</td>\n",
       "      <td>1122.0</td>\n",
       "      <td>-12.0</td>\n",
       "      <td>1603</td>\n",
       "      <td>1514.0</td>\n",
       "      <td>-49.0</td>\n",
       "      <td>B6</td>\n",
       "      <td>JetBlue Airways</td>\n",
       "    </tr>\n",
       "    <tr>\n",
       "      <th>2</th>\n",
       "      <td>2020-01-03</td>\n",
       "      <td>B6</td>\n",
       "      <td>IAH</td>\n",
       "      <td>Houston, TX</td>\n",
       "      <td>Texas</td>\n",
       "      <td>JFK</td>\n",
       "      <td>New York, NY</td>\n",
       "      <td>New York</td>\n",
       "      <td>1134</td>\n",
       "      <td>1155.0</td>\n",
       "      <td>21.0</td>\n",
       "      <td>1603</td>\n",
       "      <td>1618.0</td>\n",
       "      <td>15.0</td>\n",
       "      <td>B6</td>\n",
       "      <td>JetBlue Airways</td>\n",
       "    </tr>\n",
       "    <tr>\n",
       "      <th>3</th>\n",
       "      <td>2020-01-04</td>\n",
       "      <td>B6</td>\n",
       "      <td>IAH</td>\n",
       "      <td>Houston, TX</td>\n",
       "      <td>Texas</td>\n",
       "      <td>JFK</td>\n",
       "      <td>New York, NY</td>\n",
       "      <td>New York</td>\n",
       "      <td>1130</td>\n",
       "      <td>1127.0</td>\n",
       "      <td>-3.0</td>\n",
       "      <td>1559</td>\n",
       "      <td>1544.0</td>\n",
       "      <td>-15.0</td>\n",
       "      <td>B6</td>\n",
       "      <td>JetBlue Airways</td>\n",
       "    </tr>\n",
       "    <tr>\n",
       "      <th>4</th>\n",
       "      <td>2020-01-05</td>\n",
       "      <td>B6</td>\n",
       "      <td>IAH</td>\n",
       "      <td>Houston, TX</td>\n",
       "      <td>Texas</td>\n",
       "      <td>JFK</td>\n",
       "      <td>New York, NY</td>\n",
       "      <td>New York</td>\n",
       "      <td>1134</td>\n",
       "      <td>1209.0</td>\n",
       "      <td>35.0</td>\n",
       "      <td>1603</td>\n",
       "      <td>1643.0</td>\n",
       "      <td>40.0</td>\n",
       "      <td>B6</td>\n",
       "      <td>JetBlue Airways</td>\n",
       "    </tr>\n",
       "  </tbody>\n",
       "</table>\n",
       "</div>"
      ],
      "text/plain": [
       "   FlightDate Reporting_Airline Origin OriginCityName OriginStateName Dest  \\\n",
       "0  2020-01-01                B6    IAH    Houston, TX           Texas  JFK   \n",
       "1  2020-01-02                B6    IAH    Houston, TX           Texas  JFK   \n",
       "2  2020-01-03                B6    IAH    Houston, TX           Texas  JFK   \n",
       "3  2020-01-04                B6    IAH    Houston, TX           Texas  JFK   \n",
       "4  2020-01-05                B6    IAH    Houston, TX           Texas  JFK   \n",
       "\n",
       "   DestCityName DestStateName CRSDepTime  DepTime  DepDelay CRSArrTime  \\\n",
       "0  New York, NY      New York       1134   1127.0      -7.0       1603   \n",
       "1  New York, NY      New York       1134   1122.0     -12.0       1603   \n",
       "2  New York, NY      New York       1134   1155.0      21.0       1603   \n",
       "3  New York, NY      New York       1130   1127.0      -3.0       1559   \n",
       "4  New York, NY      New York       1134   1209.0      35.0       1603   \n",
       "\n",
       "   ArrTime  ArrDelay carrier             name  \n",
       "0   1531.0     -32.0      B6  JetBlue Airways  \n",
       "1   1514.0     -49.0      B6  JetBlue Airways  \n",
       "2   1618.0      15.0      B6  JetBlue Airways  \n",
       "3   1544.0     -15.0      B6  JetBlue Airways  \n",
       "4   1643.0      40.0      B6  JetBlue Airways  "
      ]
     },
     "execution_count": 13,
     "metadata": {},
     "output_type": "execute_result"
    }
   ],
   "source": [
    "Hou_flights = Hou_flights.merge(carrier_names, how = 'left', left_on = 'Reporting_Airline', right_on = 'carrier')\n",
    "# Hou_flights.rename(columns = {'Reporting_Airline':'carrier'}, inplace = True)\n",
    "Hou_flights.head()"
   ]
  },
  {
   "cell_type": "code",
   "execution_count": 14,
   "id": "bda17080-4666-4027-8ace-c3ab118cb4c4",
   "metadata": {},
   "outputs": [],
   "source": [
    "Hou_flights.to_csv('Hou_flights.csv', index=False)"
   ]
  },
  {
   "cell_type": "code",
   "execution_count": null,
   "id": "c41b4e2a-808f-40c4-af86-4a473e984d66",
   "metadata": {},
   "outputs": [],
   "source": []
  },
  {
   "cell_type": "code",
   "execution_count": null,
   "id": "93d0f0b0-3e8f-47c5-bbcf-5fcdeb80681a",
   "metadata": {},
   "outputs": [],
   "source": []
  }
 ],
 "metadata": {
  "kernelspec": {
   "display_name": "Python 3",
   "language": "python",
   "name": "python3"
  },
  "language_info": {
   "codemirror_mode": {
    "name": "ipython",
    "version": 3
   },
   "file_extension": ".py",
   "mimetype": "text/x-python",
   "name": "python",
   "nbconvert_exporter": "python",
   "pygments_lexer": "ipython3",
   "version": "3.7.4"
  }
 },
 "nbformat": 4,
 "nbformat_minor": 5
}
